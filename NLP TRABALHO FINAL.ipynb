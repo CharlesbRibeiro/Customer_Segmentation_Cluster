{
 "cells": [
  {
   "cell_type": "markdown",
   "id": "57d67af7-bbd4-4604-8b98-78277c7c6b84",
   "metadata": {},
   "source": [
    "# Reclamações de Clientes Bancários - Conjunto de dados\n"
   ]
  },
  {
   "cell_type": "markdown",
   "id": "140509df-069c-4997-9cf6-16d9698c82b0",
   "metadata": {},
   "source": [
    "Este conjunto de dados captura um instantâneo das reclamações de clientes feitas a um banco fictício, permitindo-nos aprofundar as diversas questões e preocupações levantadas pelos seus clientes.\n",
    "\n",
    "Estas reclamações abrangem uma vasta gama de tópicos relacionados com serviços e interações bancárias, desde problemas com contas a disputas de cartão de crédito e preocupações com roubo de identidade."
   ]
  },
  {
   "cell_type": "markdown",
   "id": "71aa4b0d-454b-4e36-875a-4e2ce0706b44",
   "metadata": {
    "tags": []
   },
   "source": [
    "## Características Principais Do Conjunto de dados (ou Dataframe)"
   ]
  },
  {
   "cell_type": "markdown",
   "id": "35c798fb-16b5-4bb8-a772-29451b93aa34",
   "metadata": {},
   "source": [
    "### Características principais"
   ]
  },
  {
   "cell_type": "markdown",
   "id": "4fc52deb-7fa6-4aa4-ae82-90c8055da039",
   "metadata": {},
   "source": [
    "**Informações do cliente**: o conjunto de dados inclui detalhes sobre os clientes que apresentaram as reclamações, como IDs de clientes, nomes e endereços de e-mail. Essas informações fornecem contexto sobre os indivíduos que tiveram problemas com o banco.\n",
    "\n",
    "**Tipo de reclamação**: Cada reclamação foi categorizada em um dos vários tipos predefinidos. Essas categorias abrangem preocupações comuns relacionadas ao setor bancário, como \"Problema de conta\", \"Disputa de cartão de crédito\", \"Problemas de empréstimo\", \"Roubo de identidade\" e uma categoria geral rotulada como \"Outros\".\n",
    "\n",
    "**Descrição da reclamação**: o cerne do conjunto de dados está nas descrições detalhadas de cada reclamação. Os clientes expressaram suas queixas, descreveram os problemas que encontraram e forneceram contexto para suas reclamações por meio dessas descrições textuais. Estas narrativas contêm informações valiosas sobre a natureza e a gravidade dos problemas.\n",
    "\n",
    "**Contexto Adicional**: Para melhorar a compreensão de cada reclamação, foram incluídas informações complementares. Essas informações consistem na data em que a reclamação foi apresentada, a localização da agência bancária onde a reclamação foi recebida e o nome do bancário responsável pelo tratamento da reclamação."
   ]
  },
  {
   "cell_type": "markdown",
   "id": "0e94569b-f6fe-4016-90eb-3821c11158ff",
   "metadata": {},
   "source": [
    "## Codigo Python e as Analises"
   ]
  },
  {
   "cell_type": "markdown",
   "id": "f905daaa-8471-44af-a241-dfe18c9fcc5d",
   "metadata": {},
   "source": [
    "### Bibliotecas Utilizadas"
   ]
  },
  {
   "cell_type": "code",
   "execution_count": null,
   "id": "6758d855-4b2f-42bf-8530-2e19f24868df",
   "metadata": {},
   "outputs": [],
   "source": [
    "pip install WordCloud\n",
    "pip install TextBlob\n",
    "pip install scikit-learn"
   ]
  },
  {
   "cell_type": "code",
   "execution_count": 12,
   "id": "6d827898-3d34-43fb-a25e-a068e21ab45b",
   "metadata": {},
   "outputs": [],
   "source": [
    "import pandas as pd\n",
    "from sklearn.model_selection import train_test_split\n",
    "from sklearn.feature_extraction.text import TfidfVectorizer\n",
    "from sklearn.naive_bayes import MultinomialNB\n",
    "from sklearn.metrics import classification_report\n",
    "from collections import Counter\n",
    "from sklearn.feature_extraction.text import CountVectorizer\n",
    "from sklearn.decomposition import LatentDirichletAllocation\n",
    "from textblob import TextBlob\n",
    "from wordcloud import WordCloud\n",
    "import pandas as pd\n",
    "from sklearn.model_selection import train_test_split\n",
    "from sklearn.feature_extraction.text import TfidfVectorizer\n",
    "from sklearn.naive_bayes import MultinomialNB\n",
    "from sklearn.metrics import classification_report\n",
    "from sklearn.pipeline import Pipeline\n",
    "from sklearn.model_selection import cross_val_score"
   ]
  },
  {
   "cell_type": "markdown",
   "id": "76d8ab8b-96ac-4cc2-99f5-0af1054c84a5",
   "metadata": {},
   "source": [
    "### Carregando o Conjunto de dados"
   ]
  },
  {
   "cell_type": "code",
   "execution_count": 3,
   "id": "1f9f9a89-2c59-4ea5-8dc3-6236883a8fca",
   "metadata": {},
   "outputs": [
    {
     "data": {
      "text/html": [
       "<div>\n",
       "<style scoped>\n",
       "    .dataframe tbody tr th:only-of-type {\n",
       "        vertical-align: middle;\n",
       "    }\n",
       "\n",
       "    .dataframe tbody tr th {\n",
       "        vertical-align: top;\n",
       "    }\n",
       "\n",
       "    .dataframe thead th {\n",
       "        text-align: right;\n",
       "    }\n",
       "</style>\n",
       "<table border=\"1\" class=\"dataframe\">\n",
       "  <thead>\n",
       "    <tr style=\"text-align: right;\">\n",
       "      <th></th>\n",
       "      <th>Customer_ID</th>\n",
       "      <th>Customer_Name</th>\n",
       "      <th>Customer_Email</th>\n",
       "      <th>Date_of_Complaint</th>\n",
       "      <th>Complaint_Type</th>\n",
       "      <th>Complaint_Description</th>\n",
       "      <th>Branch_Location</th>\n",
       "      <th>Employee_Name</th>\n",
       "    </tr>\n",
       "  </thead>\n",
       "  <tbody>\n",
       "    <tr>\n",
       "      <th>0</th>\n",
       "      <td>87999924</td>\n",
       "      <td>Denise Saunders</td>\n",
       "      <td>sheajessica@example.net</td>\n",
       "      <td>2022-04-19T05:43:28</td>\n",
       "      <td>Identity Theft</td>\n",
       "      <td>Parent democratic security crime. Big degree n...</td>\n",
       "      <td>Yatesland</td>\n",
       "      <td>David Smith</td>\n",
       "    </tr>\n",
       "    <tr>\n",
       "      <th>1</th>\n",
       "      <td>62126745</td>\n",
       "      <td>Michael Wells</td>\n",
       "      <td>antonio68@example.com</td>\n",
       "      <td>2022-01-28T20:12:02</td>\n",
       "      <td>Account Issue</td>\n",
       "      <td>Within our worker key father coach. When up re...</td>\n",
       "      <td>Tracyborough</td>\n",
       "      <td>Ernest Anderson</td>\n",
       "    </tr>\n",
       "    <tr>\n",
       "      <th>2</th>\n",
       "      <td>61875880</td>\n",
       "      <td>Peter Gonzales</td>\n",
       "      <td>danielmark@example.org</td>\n",
       "      <td>2021-11-27T15:24:59</td>\n",
       "      <td>Other</td>\n",
       "      <td>Various community physical next growth item. C...</td>\n",
       "      <td>West Michaelfort</td>\n",
       "      <td>Amanda Parker</td>\n",
       "    </tr>\n",
       "    <tr>\n",
       "      <th>3</th>\n",
       "      <td>93494060</td>\n",
       "      <td>Joseph Castro</td>\n",
       "      <td>greenrichard@example.org</td>\n",
       "      <td>2022-09-27T09:17:06</td>\n",
       "      <td>Other</td>\n",
       "      <td>Onto on share. Season turn size spring. She th...</td>\n",
       "      <td>Bartonchester</td>\n",
       "      <td>Colleen Herman</td>\n",
       "    </tr>\n",
       "    <tr>\n",
       "      <th>4</th>\n",
       "      <td>39811773</td>\n",
       "      <td>Barbara Burch</td>\n",
       "      <td>bjones@example.com</td>\n",
       "      <td>2022-06-22T17:36:51</td>\n",
       "      <td>Other</td>\n",
       "      <td>Environment letter remain member clear just co...</td>\n",
       "      <td>Marymouth</td>\n",
       "      <td>Joshua Sloan</td>\n",
       "    </tr>\n",
       "  </tbody>\n",
       "</table>\n",
       "</div>"
      ],
      "text/plain": [
       "   Customer_ID    Customer_Name            Customer_Email  \\\n",
       "0     87999924  Denise Saunders   sheajessica@example.net   \n",
       "1     62126745    Michael Wells     antonio68@example.com   \n",
       "2     61875880   Peter Gonzales    danielmark@example.org   \n",
       "3     93494060    Joseph Castro  greenrichard@example.org   \n",
       "4     39811773    Barbara Burch        bjones@example.com   \n",
       "\n",
       "     Date_of_Complaint  Complaint_Type  \\\n",
       "0  2022-04-19T05:43:28  Identity Theft   \n",
       "1  2022-01-28T20:12:02   Account Issue   \n",
       "2  2021-11-27T15:24:59           Other   \n",
       "3  2022-09-27T09:17:06           Other   \n",
       "4  2022-06-22T17:36:51           Other   \n",
       "\n",
       "                               Complaint_Description   Branch_Location  \\\n",
       "0  Parent democratic security crime. Big degree n...         Yatesland   \n",
       "1  Within our worker key father coach. When up re...      Tracyborough   \n",
       "2  Various community physical next growth item. C...  West Michaelfort   \n",
       "3  Onto on share. Season turn size spring. She th...     Bartonchester   \n",
       "4  Environment letter remain member clear just co...         Marymouth   \n",
       "\n",
       "     Employee_Name  \n",
       "0      David Smith  \n",
       "1  Ernest Anderson  \n",
       "2    Amanda Parker  \n",
       "3   Colleen Herman  \n",
       "4     Joshua Sloan  "
      ]
     },
     "execution_count": 3,
     "metadata": {},
     "output_type": "execute_result"
    }
   ],
   "source": [
    "df = pd.read_csv('improved_bank_complaints_dataset.csv', delimiter=',');df.head()"
   ]
  },
  {
   "cell_type": "markdown",
   "id": "c96e3385-c6bb-448f-abd5-bf29e46db2e8",
   "metadata": {},
   "source": [
    "### Estrutura da base de dados"
   ]
  },
  {
   "cell_type": "code",
   "execution_count": 4,
   "id": "c11a17bd-39b2-4740-86a0-1e1a09fc1d1f",
   "metadata": {},
   "outputs": [
    {
     "name": "stdout",
     "output_type": "stream",
     "text": [
      "Numero de linhas: 500000\n",
      "Numero de colunas: 8\n"
     ]
    }
   ],
   "source": [
    "num_rows, num_columns = df.shape\n",
    "\n",
    "print(f\"Numero de linhas: {num_rows}\")\n",
    "print(f\"Numero de colunas: {num_columns}\")"
   ]
  },
  {
   "cell_type": "markdown",
   "id": "097ce52f-3a1f-4b68-bc62-bf09ea1733c8",
   "metadata": {},
   "source": [
    "### Variaveis do Conjunto de dados e o Contexto"
   ]
  },
  {
   "cell_type": "code",
   "execution_count": 5,
   "id": "06898374-afbd-4d41-84cb-714f9fd55469",
   "metadata": {},
   "outputs": [
    {
     "name": "stdout",
     "output_type": "stream",
     "text": [
      "Variable Names:\n",
      "Customer_ID\n",
      "Customer_Name\n",
      "Customer_Email\n",
      "Date_of_Complaint\n",
      "Complaint_Type\n",
      "Complaint_Description\n",
      "Branch_Location\n",
      "Employee_Name\n"
     ]
    }
   ],
   "source": [
    "variable_names = df.columns.tolist()\n",
    "\n",
    "print(\"Variable Names:\")\n",
    "for variable in variable_names:\n",
    "    print(variable)"
   ]
  },
  {
   "cell_type": "markdown",
   "id": "e416cbc0-0e6e-43da-b740-d3c7e93e77a2",
   "metadata": {},
   "source": [
    "**Customer_ID**: Esta variável representa um número de identificação único atribuído a cada cliente que apresentou uma reclamação. Serve como uma forma de distinguir clientes individuais e pode ser usado para rastreamento e referência.\n",
    "\n",
    "**Customer_Name**: Esta variável contém o nome completo do cliente que fez a reclamação. Fornece uma referência à identidade do cliente e permite a personalização na abordagem das suas preocupações.\n",
    "\n",
    "**Customer_Email**: esta variável contém o endereço de e-mail associado ao cliente. Os endereços de e-mail são comumente usados ​​para fins de comunicação e contato, tornando mais fácil para o banco entrar em contato com os clientes sobre suas reclamações ou problemas.\n",
    "\n",
    "**Date_of_Complaint**: Esta variável registra a data e hora em que a reclamação foi apresentada. Ele oferece um carimbo de data/hora em que o cliente expressou sua preocupação, que pode ser usado para rastrear tempos de resposta e tendências no envio de reclamações.\n",
    "\n",
    "**Complaint_Type**: Esta variável categoriza cada reclamação em tipos ou categorias específicas. Ajuda a classificar a natureza do problema, quer se trate de problemas relacionados com contas, disputas de cartões de crédito, problemas de empréstimos, preocupações com roubo de identidade ou se caia numa categoria geral “Outros”.\n",
    "\n",
    "**Complaint_Description**: A variável Complaint_Description contém a narrativa detalhada fornecida pelo cliente para descrever o problema ou preocupação. Este texto fornece contexto e detalhes sobre a reclamação, permitindo uma compreensão mais profunda do problema.\n",
    "\n",
    "**Branch_Location**: Esta variável indica a localização da agência bancária onde a reclamação foi recebida ou tratada. Ajuda a identificar a agência física envolvida na reclamação, o que pode ser útil para rastrear problemas ou desempenho específicos da agência.\n",
    "\n",
    "**Employee_Name**: Employee_Name contém o nome do funcionário do banco responsável por tratar ou resolver a reclamação do cliente. Associa a reclamação ao colaborador que prestou assistência ou apoio durante o processo de resolução."
   ]
  },
  {
   "cell_type": "markdown",
   "id": "60014405-6a2d-4c58-8e85-fdf6930c54e8",
   "metadata": {},
   "source": [
    "## Verificando se o conjunto de dados apresenta valores duplicados ou ausentes"
   ]
  },
  {
   "cell_type": "code",
   "execution_count": 6,
   "id": "c37c4496-1896-4729-8263-938768ee64db",
   "metadata": {},
   "outputs": [
    {
     "name": "stdout",
     "output_type": "stream",
     "text": [
      "Nenhuma linha duplicada encontrada\n",
      "\n",
      " Não Valores ausentes encontrados\n"
     ]
    }
   ],
   "source": [
    "import pandas as pd\n",
    "\n",
    "# Check for duplicate rows\n",
    "duplicate_rows = df[df.duplicated()]\n",
    "\n",
    "# Check for missing values\n",
    "missing_values = df.isnull().sum()\n",
    "\n",
    "if not duplicate_rows.empty:\n",
    "    print(\"Linhas duplicadas:\")\n",
    "    print(duplicate_rows)\n",
    "else:\n",
    "    print(\"Nenhuma linha duplicada encontrada\")\n",
    "\n",
    "if missing_values.any():\n",
    "    print(\"\\nMissing Values:\")\n",
    "    print(missing_values)\n",
    "else:\n",
    "    print(\"\\n Não Valores ausentes encontrados\")\n"
   ]
  },
  {
   "cell_type": "markdown",
   "id": "60b69877-c9a0-4584-a7fd-04ef970ad3d3",
   "metadata": {},
   "source": [
    "## Criando um modelo de Classificação - Multinomial Naive Bayes"
   ]
  },
  {
   "cell_type": "markdown",
   "id": "c138d2bd-59ed-4e2e-85bc-1a9eabba30bd",
   "metadata": {},
   "source": [
    "Multinomial Naive Bayes é um algoritmo de classificação popular comumente usado em processamento de linguagem natural (PNL) e tarefas de classificação de texto. Baseia-se nos princípios do teorema de Bayes e é particularmente adequado para trabalhar com dados discretos, como documentos de texto. Este algoritmo é caracterizado pela sua simplicidade e eficiência.\n",
    "\n",
    "No Multinomial Naive Bayes, a ideia fundamental é modelar a distribuição de probabilidade de características (palavras ou termos em dados de texto) dentro de cada classe ou categoria. Assume que os recursos são condicionalmente independentes, o que significa que a presença ou ausência de uma palavra em um documento não afeta a presença ou ausência de outras palavras. Embora esta seja uma simplificação que nem sempre é verdadeira em dados de texto do mundo real, muitas vezes funciona surpreendentemente bem na prática.\n",
    "\n",
    "Para classificar um novo documento, o Multinomial Naive Bayes calcula a probabilidade desse documento pertencer a cada classe com base nas frequências observadas de palavras ou recursos nos dados de treinamento. Em seguida, atribui a classe com a maior probabilidade como a classe prevista para o documento. Multinomial Naive Bayes é particularmente eficaz para tarefas de classificação de texto, como detecção de spam de e-mail ou análise de sentimento, e é conhecido por sua velocidade e baixos requisitos computacionais. No entanto, seu desempenho pode ser limitado ao lidar com relacionamentos complexos entre recursos ou quando a suposição de independência de recursos é violada.\n",
    "\n",
    "Em resumo, Multinomial Naive Bayes é um algoritmo de classificação simples, mas poderoso, amplamente utilizado em PNL e classificação de texto. Ele aproveita o teorema de Bayes e a suposição de independência de recursos para fazer previsões sobre a classe de um novo documento com base nas frequências de palavras observadas nos dados de treinamento. Embora possa não capturar relações complexas entre palavras, é eficiente, fácil de implementar e muitas vezes oferece resultados competitivos em diversas aplicações relacionadas a texto."
   ]
  },
  {
   "cell_type": "code",
   "execution_count": 8,
   "id": "61f51e50-2bc2-4fcc-8196-f72ad7a17248",
   "metadata": {},
   "outputs": [
    {
     "name": "stdout",
     "output_type": "stream",
     "text": [
      "                     precision    recall  f1-score   support\n",
      "\n",
      "      Account Issue       0.20      0.26      0.22     20168\n",
      "Credit Card Dispute       0.20      0.18      0.19     19641\n",
      "      Loan Problems       0.20      0.23      0.22     20121\n",
      "     Identity Theft       0.20      0.16      0.18     19861\n",
      "              Other       0.21      0.18      0.19     20209\n",
      "\n",
      "           accuracy                           0.20    100000\n",
      "          macro avg       0.20      0.20      0.20    100000\n",
      "       weighted avg       0.20      0.20      0.20    100000\n",
      "\n"
     ]
    }
   ],
   "source": [
    "# Criando um mapeamento de tipos de reclamação para rótulos numéricos\n",
    "complaint_type_mapping = {\n",
    "    'Account Issue': 0,\n",
    "    'Credit Card Dispute': 1,\n",
    "    'Loan Problems': 2,\n",
    "    'Identity Theft': 3,\n",
    "    'Other': 4\n",
    "}\n",
    "\n",
    "# Criando uma nova coluna com rótulos numéricos\n",
    "df['Complaint_Type_Label'] = df['Complaint_Type'].map(complaint_type_mapping)\n",
    "\n",
    "# Divida o conjunto de dados em conjuntos de treinamento e teste\n",
    "X_train, X_test, y_train, y_test = train_test_split(\n",
    "    df['Complaint_Description'],\n",
    "    df['Complaint_Type_Label'],\n",
    "    test_size=0.2,\n",
    "    random_state=42\n",
    ")\n",
    "\n",
    "# Crie vetorizadores TF-IDF para recursos de texto\n",
    "tfidf_vectorizer = TfidfVectorizer(max_features=5000)  # You can adjust max_features as needed\n",
    "\n",
    "# Transforme os dados de treinamento e teste\n",
    "X_train_tfidf = tfidf_vectorizer.fit_transform(X_train)\n",
    "X_test_tfidf = tfidf_vectorizer.transform(X_test)\n",
    "\n",
    "# Inicialize e treine um classificador de texto (por exemplo, Multinomial Naive Bayes)\n",
    "classifier = MultinomialNB()\n",
    "classifier.fit(X_train_tfidf, y_train)\n",
    "\n",
    "# Faça previsões no conjunto de testes\n",
    "y_pred = classifier.predict(X_test_tfidf)\n",
    "\n"
   ]
  },
  {
   "cell_type": "markdown",
   "id": "4e54fb8e-554d-4ed1-9765-6b335d060e1e",
   "metadata": {},
   "source": [
    "O código acima realiza as seguintes atividades:\n",
    "\n",
    "**(1)** Mapeia os tipos de reclamação em rótulos numéricos para classificação.\n",
    "\n",
    "**(2)** Divide o conjunto de dados em conjuntos de treinamento e teste.\n",
    "\n",
    "**(3)** Usa vetorização TF-IDF para converter dados de texto em recursos numéricos.\n",
    "\n",
    "**(4)** Inicializa e treina um classificador Multinomial Naive Bayes.\n",
    "\n",
    "**(5)** Faz previsões no conjunto de testes e imprime um relatório de classificação com métricas como precisão, recall e pontuação F1 para cada tipo de reclamação."
   ]
  },
  {
   "cell_type": "code",
   "execution_count": 9,
   "id": "3c77f851-5ded-4cfe-9073-fbce7f9c61e2",
   "metadata": {},
   "outputs": [
    {
     "name": "stdout",
     "output_type": "stream",
     "text": [
      "                     precision    recall  f1-score   support\n",
      "\n",
      "      Account Issue       0.20      0.26      0.22     20168\n",
      "Credit Card Dispute       0.20      0.18      0.19     19641\n",
      "      Loan Problems       0.20      0.23      0.22     20121\n",
      "     Identity Theft       0.20      0.16      0.18     19861\n",
      "              Other       0.21      0.18      0.19     20209\n",
      "\n",
      "           accuracy                           0.20    100000\n",
      "          macro avg       0.20      0.20      0.20    100000\n",
      "       weighted avg       0.20      0.20      0.20    100000\n",
      "\n"
     ]
    }
   ],
   "source": [
    "# Imprimir relatório de classificação\n",
    "print(classification_report(y_test, y_pred, target_names=complaint_type_mapping.keys()))"
   ]
  },
  {
   "cell_type": "markdown",
   "id": "563f24d1-40b0-4b18-9580-84ea5f9bef26",
   "metadata": {},
   "source": [
    "**Precision** : A precisão mede a precisão das previsões positivas. Neste contexto, informa a percentagem de reclamações corretamente classificadas para cada categoria. Por exemplo, para “Problema de Conta”, apenas 20% das reclamações previstas foram corretamente classificadas como tal.\n",
    "\n",
    "**Recall** : Recall mede a capacidade do classificador de identificar corretamente todas as instâncias relevantes. Neste contexto, informa qual a percentagem de reclamações reais de cada categoria que foram classificadas corretamente. Por exemplo, para “Problema de conta”, apenas 26% das reclamações reais foram classificadas corretamente.\n",
    "\n",
    "**f1-score** : A pontuação F1 é a média harmônica de precisão e recuperação. Ele fornece um equilíbrio entre precisão e recuperação. Neste contexto, indica o equilíbrio entre classificar corretamente as reclamações e identificar corretamente todas as reclamações reais. Por exemplo, a pontuação F1 para “Problema de conta” é 0,22.\n",
    "\n",
    "**support** : O suporte indica o número de instâncias reais para cada categoria no conjunto de teste.\n",
    "\n",
    "**Precisão** : A precisão geral do modelo é de 20%. Isto significa que, em média, apenas 20% das reclamações são corretamente classificadas nas respetivas categorias."
   ]
  },
  {
   "cell_type": "markdown",
   "id": "8919d986-3643-4c7e-b26d-9c9c4842a7ea",
   "metadata": {},
   "source": [
    "O desempenho da classificação parece ser bastante baixo, com valores de precisão, recall e pontuação F1 em torno de 0,20. Isto sugere que o atual modelo de classificação de texto pode não distinguir eficazmente entre as diferentes categorias de reclamações. Para tentarmos melhorar esses resultados vamos aplicar outras tecnicas.\n",
    "\n",
    "\n",
    "Neste código abaixo, iplementaremos um pipeline de classificação de texto com vetorização TF-IDF e um classificador Multinomial Naive Bayes. O código também demonstra o uso de validação cruzada k-fold para estimar melhor o desempenho do modelo."
   ]
  },
  {
   "cell_type": "code",
   "execution_count": 15,
   "id": "f2202251-8d46-496f-87d4-d2143b2ae19e",
   "metadata": {},
   "outputs": [
    {
     "name": "stdout",
     "output_type": "stream",
     "text": [
      "                     precision    recall  f1-score   support\n",
      "\n",
      "      Account Issue       0.20      0.26      0.23     20168\n",
      "Credit Card Dispute       0.20      0.18      0.19     19641\n",
      "     Identity Theft       0.20      0.16      0.18     19861\n",
      "      Loan Problems       0.20      0.23      0.21     20121\n",
      "              Other       0.21      0.18      0.19     20209\n",
      "\n",
      "           accuracy                           0.20    100000\n",
      "          macro avg       0.20      0.20      0.20    100000\n",
      "       weighted avg       0.20      0.20      0.20    100000\n",
      "\n",
      "Precisão média de validação cruzada: 0.200562\n"
     ]
    }
   ],
   "source": [
    "# Divida o conjunto de dados em conjuntos de treinamento e teste\n",
    "X_train, X_test, y_train, y_test = train_test_split(\n",
    "    df['Complaint_Description'],\n",
    "    df['Complaint_Type'],\n",
    "    test_size=0.2,\n",
    "    random_state=42\n",
    ")\n",
    "\n",
    "# Criando um pipeline de classificação de texto com vetorização TF-IDF e um classificador\n",
    "text_clf = Pipeline([\n",
    "    ('tfidf', TfidfVectorizer(max_features=5000, ngram_range=(1, 2))),  \n",
    "    ('clf', MultinomialNB())\n",
    "])\n",
    "\n",
    "# Treinando o modelo com os dados de treinamento\n",
    "text_clf.fit(X_train, y_train)\n",
    "\n",
    "# Avaliando o modelo no conjunto de teste\n",
    "y_pred = text_clf.predict(X_test)\n",
    "\n",
    "# Print relatório de classificação\n",
    "print(classification_report(y_test, y_pred))\n",
    "\n",
    "# Execute a validação cruzada k-fold para avaliar o desempenho do modelo\n",
    "scores = cross_val_score(text_clf, df['Complaint_Description'], df['Complaint_Type'], cv=5)\n",
    "print(f\"Precisão média de validação cruzada: {scores.mean()}\")\n",
    "\n",
    "# Optional: Fine-tune hyperparameters, try different classifiers, or implement other improvements as needed.\n"
   ]
  },
  {
   "cell_type": "markdown",
   "id": "dddd22dd-6b65-4e1c-9c22-3dcb4c220333",
   "metadata": {},
   "source": [
    "Apesar da aplicação de técnicas como Naive Bayes e da criação de um pipeline, o desempenho da classificação não mostrou melhoria significativa neste conjunto de dados. É essencial reconhecer que a classificação de texto pode ser uma tarefa desafiadora e que melhorar o desempenho muitas vezes requer uma combinação de abordagens."
   ]
  },
  {
   "cell_type": "markdown",
   "id": "3753b10e-57ca-4f15-b20a-5949638ac73e",
   "metadata": {},
   "source": [
    "## Conclusão"
   ]
  },
  {
   "cell_type": "markdown",
   "id": "3708d0f3-ac56-4e72-ab18-2b30d183d7ed",
   "metadata": {},
   "source": [
    "Como o intuito desse relatorio é aplicar um tecnica de classificação , verificamos que mesmo utilizando um modelo (ou tema) avançãdo como naives bayes , nosso conjunto de dados não obteve bons desempenhos com o modelo utilizado , mesmo quando criado um pipeline e realizando alguns ajustes.\n",
    "\n",
    "Como sugestão indicaria alguns outras formas de tentar resolver esse problema que encontramos em classificar nosso conjunto de dados.\n",
    "\n",
    "(1) **Aumento de dados** :\n",
    "\n",
    "Aumentar o conjunto de dados criando variações de reclamações existentes. Técnicas como parafrasear, adicionar sinônimos ou alterar a estrutura das frases podem ajudar a gerar exemplos de treinamento mais diversos.\n",
    "\n",
    "(2) **Modelos de aprendizagem profunda (ou Deep Learning)** :\n",
    "\n",
    "Explore modelos baseados em aprendizagem profunda, como redes neurais convolucionais (CNNs), redes neurais recorrentes (RNNs) ou arquiteturas baseadas em transformadores (por exemplo, BERT, RoBERTa) projetadas especificamente para tarefas de processamento de linguagem natural.\n"
   ]
  }
 ],
 "metadata": {
  "kernelspec": {
   "display_name": "Python 3 (ipykernel)",
   "language": "python",
   "name": "python3"
  },
  "language_info": {
   "codemirror_mode": {
    "name": "ipython",
    "version": 3
   },
   "file_extension": ".py",
   "mimetype": "text/x-python",
   "name": "python",
   "nbconvert_exporter": "python",
   "pygments_lexer": "ipython3",
   "version": "3.9.13"
  }
 },
 "nbformat": 4,
 "nbformat_minor": 5
}
